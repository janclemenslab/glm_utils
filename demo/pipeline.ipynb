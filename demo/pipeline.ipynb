{
 "cells": [
  {
   "cell_type": "markdown",
   "metadata": {},
   "source": [
    "Use of `glm_utils` in a `sklearn.pipeline`."
   ]
  },
  {
   "cell_type": "code",
   "execution_count": 4,
   "metadata": {},
   "outputs": [
    {
     "output_type": "stream",
     "name": "stdout",
     "text": "r2=1.0\n"
    }
   ],
   "source": [
    "from tempfile import TemporaryDirectory\n",
    "import numpy as np\n",
    "from sklearn.linear_model import BayesianRidge\n",
    "from sklearn.preprocessing import FunctionTransformer, PolynomialFeatures\n",
    "from sklearn.pipeline import Pipeline\n",
    "\n",
    "from glm_utils.preprocessing import time_delay_embedding\n",
    "\n",
    "# Generate dummy data.\n",
    "x = np.random.random((1000, 1))\n",
    "y = np.random.random((1000,))\n",
    "\n",
    "# Manipulations regarding X *and* y\n",
    "X, y = time_delay_embedding(x, y, window_size=100)\n",
    "\n",
    "# Transformations that only change X are included in the pipeline.\n",
    "steps = [('quad_exp', PolynomialFeatures(degree=2, interaction_only=False, include_bias=True)),\n",
    "         ('ridge', BayesianRidge())]\n",
    "\n",
    "with TemporaryDirectory() as tempdir:\n",
    "    model = Pipeline(steps, memory=tempdir)\n",
    "    model.fit(X, y)\n",
    "    y_pred, y_pred_std = model.predict(X, return_std=True)\n",
    "    print(f'r2={model.score(X, y):1.2}')"
   ]
  },
  {
   "cell_type": "markdown",
   "metadata": {},
   "source": [
    "## Notes\n",
    "Processing steps that require manipulations of `X` *and* `y` - such as time delay embedding, balancing, test-train split - are currently not supported by sklearn pipelines (see [here](https://github.com/scikit-learn/scikit-learn/issues/4143)). These steps should be performed before the pipeline.\n",
    "\n",
    "Processing steps that only affect `X` - feature normalization or scaling, basis function projections, PCA, polynomial expansions - can be included in the pipeline. Custom functions should follow this signature: `X = func(X, **kwargs)` and can be integrated into a pipeline with the [FunctionTransformer](https://scikit-learn.org/stable/modules/generated/sklearn.preprocessing.FunctionTransformer.html#sklearn.preprocessing.FunctionTransformer). Alternatively, a custom class implementing the [Transformer interface](https://scikit-learn.org/stable/developers/contributing.html#rolling-your-own-estimator) can be used. Custom classes have the advantage of providing access to parameters of the transform - e.g. the basis vectors used in a basis function projection.\n"
   ]
  }
 ],
 "metadata": {
  "language_info": {
   "codemirror_mode": {
    "name": "ipython",
    "version": 3
   },
   "file_extension": ".py",
   "mimetype": "text/x-python",
   "name": "python",
   "nbconvert_exporter": "python",
   "pygments_lexer": "ipython3",
   "version": "3.7.7-final"
  },
  "orig_nbformat": 2,
  "kernelspec": {
   "name": "python37664bitminicondavirtualenv7fae029fd0bd4545b5a81627b1a0f8fe",
   "display_name": "Python 3.7.6 64-bit ('miniconda': virtualenv)"
  }
 },
 "nbformat": 4,
 "nbformat_minor": 2
}